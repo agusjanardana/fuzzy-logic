{
  "nbformat": 4,
  "nbformat_minor": 0,
  "metadata": {
    "colab": {
      "name": "tupro2_PAI.ipynb",
      "provenance": [],
      "collapsed_sections": [],
      "include_colab_link": true
    },
    "kernelspec": {
      "name": "python3",
      "display_name": "Python 3"
    },
    "language_info": {
      "name": "python"
    }
  },
  "cells": [
    {
      "cell_type": "markdown",
      "metadata": {
        "id": "view-in-github",
        "colab_type": "text"
      },
      "source": [
        "<a href=\"https://colab.research.google.com/github/agusjanardana/fuzzy-logic/blob/main/tupro2_PAI.ipynb\" target=\"_parent\"><img src=\"https://colab.research.google.com/assets/colab-badge.svg\" alt=\"Open In Colab\"/></a>"
      ]
    },
    {
      "cell_type": "code",
      "metadata": {
        "id": "7Vzp1zzHZaAT"
      },
      "source": [
        "# Inisialisasi kebutuhan library\n",
        "import pandas as pd\n",
        "import io\n",
        "import matplotlib.pyplot as plt\n",
        "import numpy as np\n",
        "from google.colab import files\n"
      ],
      "execution_count": null,
      "outputs": []
    },
    {
      "cell_type": "code",
      "metadata": {
        "colab": {
          "resources": {
            "http://localhost:8080/nbextensions/google.colab/files.js": {
              "data": "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",
              "ok": true,
              "headers": [
                [
                  "content-type",
                  "application/javascript"
                ]
              ],
              "status": 200,
              "status_text": ""
            }
          },
          "base_uri": "https://localhost:8080/",
          "height": 91
        },
        "id": "aLBdo-Y7ZnO_",
        "outputId": "dae807d9-4923-40ad-88f6-276f1ebdd13a"
      },
      "source": [
        "uploaded = files.upload()\n",
        "for fn in uploaded.keys():\n",
        "  print('Sudah mengupload file dengan nama \"{name}\" dan panjang {length} bytes'.format(\n",
        "      name=fn, length=len(uploaded[fn])))"
      ],
      "execution_count": null,
      "outputs": [
        {
          "output_type": "display_data",
          "data": {
            "text/html": [
              "\n",
              "     <input type=\"file\" id=\"files-1cf6ee8c-beec-4746-b784-c9135674f366\" name=\"files[]\" multiple disabled\n",
              "        style=\"border:none\" />\n",
              "     <output id=\"result-1cf6ee8c-beec-4746-b784-c9135674f366\">\n",
              "      Upload widget is only available when the cell has been executed in the\n",
              "      current browser session. Please rerun this cell to enable.\n",
              "      </output>\n",
              "      <script src=\"/nbextensions/google.colab/files.js\"></script> "
            ],
            "text/plain": [
              "<IPython.core.display.HTML object>"
            ]
          },
          "metadata": {
            "tags": []
          }
        },
        {
          "output_type": "stream",
          "text": [
            "Saving restoran.xlsx to restoran.xlsx\n",
            "Sudah mengupload file dengan nama \"restoran.xlsx\" dan panjang 10537 bytes\n"
          ],
          "name": "stdout"
        }
      ]
    },
    {
      "cell_type": "code",
      "metadata": {
        "colab": {
          "base_uri": "https://localhost:8080/",
          "height": 406
        },
        "id": "xLQEefBcZtcY",
        "outputId": "06c4a62d-d7e6-4e26-8e4f-3ac6a30949ec"
      },
      "source": [
        "dfFuzzy = pd.read_excel(io.BytesIO(uploaded.get('restoran.xlsx')))\n",
        "dfFuzzy"
      ],
      "execution_count": null,
      "outputs": [
        {
          "output_type": "execute_result",
          "data": {
            "text/html": [
              "<div>\n",
              "<style scoped>\n",
              "    .dataframe tbody tr th:only-of-type {\n",
              "        vertical-align: middle;\n",
              "    }\n",
              "\n",
              "    .dataframe tbody tr th {\n",
              "        vertical-align: top;\n",
              "    }\n",
              "\n",
              "    .dataframe thead th {\n",
              "        text-align: right;\n",
              "    }\n",
              "</style>\n",
              "<table border=\"1\" class=\"dataframe\">\n",
              "  <thead>\n",
              "    <tr style=\"text-align: right;\">\n",
              "      <th></th>\n",
              "      <th>id</th>\n",
              "      <th>pelayanan</th>\n",
              "      <th>makanan</th>\n",
              "    </tr>\n",
              "  </thead>\n",
              "  <tbody>\n",
              "    <tr>\n",
              "      <th>0</th>\n",
              "      <td>1</td>\n",
              "      <td>58</td>\n",
              "      <td>7</td>\n",
              "    </tr>\n",
              "    <tr>\n",
              "      <th>1</th>\n",
              "      <td>2</td>\n",
              "      <td>54</td>\n",
              "      <td>1</td>\n",
              "    </tr>\n",
              "    <tr>\n",
              "      <th>2</th>\n",
              "      <td>3</td>\n",
              "      <td>98</td>\n",
              "      <td>2</td>\n",
              "    </tr>\n",
              "    <tr>\n",
              "      <th>3</th>\n",
              "      <td>4</td>\n",
              "      <td>52</td>\n",
              "      <td>4</td>\n",
              "    </tr>\n",
              "    <tr>\n",
              "      <th>4</th>\n",
              "      <td>5</td>\n",
              "      <td>11</td>\n",
              "      <td>4</td>\n",
              "    </tr>\n",
              "    <tr>\n",
              "      <th>...</th>\n",
              "      <td>...</td>\n",
              "      <td>...</td>\n",
              "      <td>...</td>\n",
              "    </tr>\n",
              "    <tr>\n",
              "      <th>95</th>\n",
              "      <td>96</td>\n",
              "      <td>30</td>\n",
              "      <td>1</td>\n",
              "    </tr>\n",
              "    <tr>\n",
              "      <th>96</th>\n",
              "      <td>97</td>\n",
              "      <td>25</td>\n",
              "      <td>3</td>\n",
              "    </tr>\n",
              "    <tr>\n",
              "      <th>97</th>\n",
              "      <td>98</td>\n",
              "      <td>27</td>\n",
              "      <td>10</td>\n",
              "    </tr>\n",
              "    <tr>\n",
              "      <th>98</th>\n",
              "      <td>99</td>\n",
              "      <td>8</td>\n",
              "      <td>6</td>\n",
              "    </tr>\n",
              "    <tr>\n",
              "      <th>99</th>\n",
              "      <td>100</td>\n",
              "      <td>11</td>\n",
              "      <td>8</td>\n",
              "    </tr>\n",
              "  </tbody>\n",
              "</table>\n",
              "<p>100 rows × 3 columns</p>\n",
              "</div>"
            ],
            "text/plain": [
              "     id  pelayanan  makanan\n",
              "0     1         58        7\n",
              "1     2         54        1\n",
              "2     3         98        2\n",
              "3     4         52        4\n",
              "4     5         11        4\n",
              "..  ...        ...      ...\n",
              "95   96         30        1\n",
              "96   97         25        3\n",
              "97   98         27       10\n",
              "98   99          8        6\n",
              "99  100         11        8\n",
              "\n",
              "[100 rows x 3 columns]"
            ]
          },
          "metadata": {
            "tags": []
          },
          "execution_count": 3
        }
      ]
    },
    {
      "cell_type": "code",
      "metadata": {
        "id": "IE9oYU8nn25N",
        "colab": {
          "base_uri": "https://localhost:8080/"
        },
        "outputId": "b9580f69-993c-4261-f67c-09d7fc4ce6bd"
      },
      "source": [
        "dfFuzzy.info()"
      ],
      "execution_count": null,
      "outputs": [
        {
          "output_type": "stream",
          "text": [
            "<class 'pandas.core.frame.DataFrame'>\n",
            "RangeIndex: 100 entries, 0 to 99\n",
            "Data columns (total 3 columns):\n",
            " #   Column     Non-Null Count  Dtype\n",
            "---  ------     --------------  -----\n",
            " 0   id         100 non-null    int64\n",
            " 1   pelayanan  100 non-null    int64\n",
            " 2   makanan    100 non-null    int64\n",
            "dtypes: int64(3)\n",
            "memory usage: 2.5 KB\n"
          ],
          "name": "stdout"
        }
      ]
    },
    {
      "cell_type": "markdown",
      "metadata": {
        "id": "cWQ31Uj7zhmH"
      },
      "source": [
        "**GRAFIK BATAS FUNGSI KEANGGOTAAN UNTUK PELAYANAN**"
      ]
    },
    {
      "cell_type": "code",
      "metadata": {
        "colab": {
          "base_uri": "https://localhost:8080/",
          "height": 303
        },
        "id": "DAZ3MsgSz7bq",
        "outputId": "ee8fa360-78e8-4bd3-f49e-9bfa6327d094"
      },
      "source": [
        "x1 = [20,30,60,100]\n",
        "y1 = [1, 1, 0, 0]\n",
        "\n",
        "x2 = [20,30,50,75,90,100]\n",
        "y2 = [0,0,0,1,0,0]\n",
        "\n",
        "x3 = [20,30,50,60,75,80,88,90,100]\n",
        "y3 = [0,0,0,0,0,0,1,1,1]\n",
        "\n",
        "plt.figure(figsize=(10,4))\n",
        "plt.xticks([30,50,60,75,80,88,90])\n",
        "plt.title(\"Keanggotaan Pelayanan\", fontsize=20)\n",
        "\n",
        "plt.plot(x1,y1, label='Buruk')\n",
        "plt.plot(x2,y2, label='Cukup')\n",
        "plt.plot(x3,y3, label='Bagus')\n",
        "\n",
        "plt.legend()"
      ],
      "execution_count": null,
      "outputs": [
        {
          "output_type": "execute_result",
          "data": {
            "text/plain": [
              "<matplotlib.legend.Legend at 0x7f17e41bba10>"
            ]
          },
          "metadata": {
            "tags": []
          },
          "execution_count": 5
        },
        {
          "output_type": "display_data",
          "data": {
            "image/png": "[encoded data removed]",
            "text/plain": [
              "<Figure size 720x288 with 1 Axes>"
            ]
          },
          "metadata": {
            "tags": [],
            "needs_background": "light"
          }
        }
      ]
    },
    {
      "cell_type": "markdown",
      "metadata": {
        "id": "-caxlcG2nqtu"
      },
      "source": [
        "**FUZZIFICATION PELAYANAN**\n",
        "\n",
        "\n"
      ]
    },
    {
      "cell_type": "code",
      "metadata": {
        "id": "mwcWiWz_nprH"
      },
      "source": [
        "def pelayanan(x):\n",
        "  nilaiPelayanan = []\n",
        "  if (( x>= 0) and (x <= 60 )):\n",
        "    nilaiPelayanan.append(pelayananBuruk(x))\n",
        "  if (( x>= 50) and ( x<= 90)):\n",
        "    nilaiPelayanan.append(pelayananCukup(x))\n",
        "  if ( x>= 80 ):\n",
        "    nilaiPelayanan.append(pelayananBagus(x))\n",
        "  return nilaiPelayanan"
      ],
      "execution_count": null,
      "outputs": []
    },
    {
      "cell_type": "code",
      "metadata": {
        "id": "3YXgQBWyoqxE"
      },
      "source": [
        "def pelayananBuruk(x):\n",
        "  if ( x>= 0.0 and x<= 30.0):\n",
        "    return 'buruk', 1.0\n",
        "  elif ( x> 30.0 and x <=60.0):\n",
        "    return 'buruk', ((60.0 - x)/(60.0-30.0))"
      ],
      "execution_count": null,
      "outputs": []
    },
    {
      "cell_type": "code",
      "metadata": {
        "id": "LlvVUAGQpbTk"
      },
      "source": [
        "def pelayananCukup(x):\n",
        "  if ( x>= 50.0 and x<= 75.0):\n",
        "    return 'cukup', ((x-50.0)/(75.0-50.0))\n",
        "  elif ( x> 75.0 and x <=90.0):\n",
        "    return 'cukup', ((90.0 - x)/(90.0-75.0))"
      ],
      "execution_count": null,
      "outputs": []
    },
    {
      "cell_type": "code",
      "metadata": {
        "id": "VUDasZISqH2p"
      },
      "source": [
        "def pelayananBagus(x):\n",
        "  if ( x>= 80.0 and x<= 88.0):\n",
        "    return 'bagus', ((x-80.0)/(88.0-80.0))\n",
        "  elif ( x>88.0):\n",
        "    return 'bagus', 1"
      ],
      "execution_count": null,
      "outputs": []
    },
    {
      "cell_type": "markdown",
      "metadata": {
        "id": "8g3nXHZuqgyT"
      },
      "source": [
        "**TEST FUZZY PELAYANAN**"
      ]
    },
    {
      "cell_type": "code",
      "metadata": {
        "colab": {
          "base_uri": "https://localhost:8080/"
        },
        "id": "akaXPMNBqjTp",
        "outputId": "3d0f7821-19c9-4d7f-dc6b-7d3e12511f41"
      },
      "source": [
        "pelayanan(25.5)"
      ],
      "execution_count": null,
      "outputs": [
        {
          "output_type": "execute_result",
          "data": {
            "text/plain": [
              "[('buruk', 1.0)]"
            ]
          },
          "metadata": {
            "tags": []
          },
          "execution_count": 10
        }
      ]
    },
    {
      "cell_type": "code",
      "metadata": {
        "colab": {
          "base_uri": "https://localhost:8080/"
        },
        "id": "OrrPsATzqvMS",
        "outputId": "5472beb4-20a2-4302-b5f0-bdb17a249f26"
      },
      "source": [
        "pelayanan(45)"
      ],
      "execution_count": null,
      "outputs": [
        {
          "output_type": "execute_result",
          "data": {
            "text/plain": [
              "[('buruk', 0.5)]"
            ]
          },
          "metadata": {
            "tags": []
          },
          "execution_count": 11
        }
      ]
    },
    {
      "cell_type": "code",
      "metadata": {
        "colab": {
          "base_uri": "https://localhost:8080/"
        },
        "id": "I_pclF_Mq1HJ",
        "outputId": "419a402e-d81b-4c2c-f8a6-2ac07413f7b0"
      },
      "source": [
        "pelayanan(56.0)"
      ],
      "execution_count": null,
      "outputs": [
        {
          "output_type": "execute_result",
          "data": {
            "text/plain": [
              "[('buruk', 0.13333333333333333), ('cukup', 0.24)]"
            ]
          },
          "metadata": {
            "tags": []
          },
          "execution_count": 12
        }
      ]
    },
    {
      "cell_type": "code",
      "metadata": {
        "colab": {
          "base_uri": "https://localhost:8080/"
        },
        "id": "n7tPfVsJroGI",
        "outputId": "7eec2004-0678-42b3-b33e-0d755bc15126"
      },
      "source": [
        "pelayanan(78.0)"
      ],
      "execution_count": null,
      "outputs": [
        {
          "output_type": "execute_result",
          "data": {
            "text/plain": [
              "[('cukup', 0.8)]"
            ]
          },
          "metadata": {
            "tags": []
          },
          "execution_count": 13
        }
      ]
    },
    {
      "cell_type": "code",
      "metadata": {
        "colab": {
          "base_uri": "https://localhost:8080/"
        },
        "id": "IZJD1hcsrvv5",
        "outputId": "1cff2b08-c0ed-4167-b195-7cf3ec0ce675"
      },
      "source": [
        "pelayanan(85)"
      ],
      "execution_count": null,
      "outputs": [
        {
          "output_type": "execute_result",
          "data": {
            "text/plain": [
              "[('cukup', 0.3333333333333333), ('bagus', 0.625)]"
            ]
          },
          "metadata": {
            "tags": []
          },
          "execution_count": 14
        }
      ]
    },
    {
      "cell_type": "code",
      "metadata": {
        "colab": {
          "base_uri": "https://localhost:8080/"
        },
        "id": "k2K3nDour2Am",
        "outputId": "54b8ff42-3bcb-4b2a-887a-6e4b10fb8a5a"
      },
      "source": [
        "pelayanan(90)"
      ],
      "execution_count": null,
      "outputs": [
        {
          "output_type": "execute_result",
          "data": {
            "text/plain": [
              "[('cukup', 0.0), ('bagus', 1)]"
            ]
          },
          "metadata": {
            "tags": []
          },
          "execution_count": 15
        }
      ]
    },
    {
      "cell_type": "markdown",
      "metadata": {
        "id": "0m3r10Yj20aA"
      },
      "source": [
        "**GRAFIK KEANGGOTAAN MAKANAN**"
      ]
    },
    {
      "cell_type": "code",
      "metadata": {
        "colab": {
          "base_uri": "https://localhost:8080/",
          "height": 303
        },
        "id": "bJlvINsm23uj",
        "outputId": "2c6e5a0d-e0cc-4292-cbbe-0c07d2673944"
      },
      "source": [
        "x1 = [1,2,5,9]\n",
        "y1 = [1,1,0,0]\n",
        "\n",
        "x2 = [1,2,4,6,8,9]\n",
        "y2 = [0,0,0,1,0,0]\n",
        "\n",
        "x3 = [1,2,4,6,7,8.5,9]\n",
        "y3 = [0,0,0,0,0,1,1]\n",
        "\n",
        "plt.figure(figsize=(10,4))\n",
        "plt.xticks([2,4,5,6,7,8,8.5])\n",
        "plt.title(\"Keanggotaan Makanan\", fontsize=20)\n",
        "\n",
        "plt.plot(x1,y1, label='Buruk')\n",
        "plt.plot(x2,y2, label='Cukup')\n",
        "plt.plot(x3,y3, label='Bagus')\n",
        "\n",
        "plt.legend()"
      ],
      "execution_count": null,
      "outputs": [
        {
          "output_type": "execute_result",
          "data": {
            "text/plain": [
              "<matplotlib.legend.Legend at 0x7f17e41589d0>"
            ]
          },
          "metadata": {
            "tags": []
          },
          "execution_count": 16
        },
        {
          "output_type": "display_data",
          "data": {
            "image/png": "[encoded data removed]",
            "text/plain": [
              "<Figure size 720x288 with 1 Axes>"
            ]
          },
          "metadata": {
            "tags": [],
            "needs_background": "light"
          }
        }
      ]
    },
    {
      "cell_type": "markdown",
      "metadata": {
        "id": "TEKuIiRtsEJ1"
      },
      "source": [
        "**FUZZYFICATION MAKANAN**"
      ]
    },
    {
      "cell_type": "code",
      "metadata": {
        "id": "UZu-7DvisO6R"
      },
      "source": [
        "def makanan(x):\n",
        "  nilaiMakanan = []\n",
        "  if (( x>= 0) and (x <= 5 )):\n",
        "    nilaiMakanan.append(makananBuruk(x))\n",
        "  if (( x>= 4) and ( x<= 8)):\n",
        "    nilaiMakanan.append(makananCukup(x))\n",
        "  if ( x>= 7 ):\n",
        "    nilaiMakanan.append(makananBagus(x))\n",
        "  return nilaiMakanan"
      ],
      "execution_count": null,
      "outputs": []
    },
    {
      "cell_type": "code",
      "metadata": {
        "id": "8aS1kVUzsTZA"
      },
      "source": [
        "def makananBuruk(x):\n",
        "  if ( x>= 0.0 and x<= 2.0):\n",
        "    return 'buruk', 1.0\n",
        "  elif ( x> 2.0 and x <=5.0):\n",
        "    return 'buruk', ((5.0 - x)/(5.0-2.0))"
      ],
      "execution_count": null,
      "outputs": []
    },
    {
      "cell_type": "code",
      "metadata": {
        "id": "pH_qtlrssQFe"
      },
      "source": [
        "def makananCukup(x):\n",
        "  if ( x>= 4.0 and x<= 6.0):\n",
        "    return 'cukup', ((x-4.0)/(6.0-4.0))\n",
        "  elif ( x> 6.0 and x <=8.0):\n",
        "    return 'cukup', ((8.0 - x)/(8.0-6.0))"
      ],
      "execution_count": null,
      "outputs": []
    },
    {
      "cell_type": "code",
      "metadata": {
        "id": "APoHenBTsQN9"
      },
      "source": [
        "def makananBagus(x):\n",
        "  if ( x>= 7.0 and x<= 8.5):\n",
        "    return 'bagus', ((x-7.0)/(8.5-7.0))\n",
        "  elif ( x>8.5):\n",
        "    return 'bagus', 1"
      ],
      "execution_count": null,
      "outputs": []
    },
    {
      "cell_type": "markdown",
      "metadata": {
        "id": "lfVNMZVkt2Kf"
      },
      "source": [
        "**TEST FUZZY MAKANAN**"
      ]
    },
    {
      "cell_type": "code",
      "metadata": {
        "colab": {
          "base_uri": "https://localhost:8080/"
        },
        "id": "IXkvvyPpt5bh",
        "outputId": "da00f1b3-a2b5-4179-aa43-dfbd81726928"
      },
      "source": [
        "makanan(1.5)"
      ],
      "execution_count": null,
      "outputs": [
        {
          "output_type": "execute_result",
          "data": {
            "text/plain": [
              "[('buruk', 1.0)]"
            ]
          },
          "metadata": {
            "tags": []
          },
          "execution_count": 21
        }
      ]
    },
    {
      "cell_type": "code",
      "metadata": {
        "colab": {
          "base_uri": "https://localhost:8080/"
        },
        "id": "qV5WFoAkt5l7",
        "outputId": "e86ea438-3439-4e68-d406-c74627ab2804"
      },
      "source": [
        "makanan(3)"
      ],
      "execution_count": null,
      "outputs": [
        {
          "output_type": "execute_result",
          "data": {
            "text/plain": [
              "[('buruk', 0.6666666666666666)]"
            ]
          },
          "metadata": {
            "tags": []
          },
          "execution_count": 22
        }
      ]
    },
    {
      "cell_type": "code",
      "metadata": {
        "colab": {
          "base_uri": "https://localhost:8080/"
        },
        "id": "O7dmfqeCt5sE",
        "outputId": "8b4f6fc4-3eb5-40ca-cd96-95605a8d9ef0"
      },
      "source": [
        "makanan(5)"
      ],
      "execution_count": null,
      "outputs": [
        {
          "output_type": "execute_result",
          "data": {
            "text/plain": [
              "[('buruk', 0.0), ('cukup', 0.5)]"
            ]
          },
          "metadata": {
            "tags": []
          },
          "execution_count": 23
        }
      ]
    },
    {
      "cell_type": "code",
      "metadata": {
        "colab": {
          "base_uri": "https://localhost:8080/"
        },
        "id": "EjAzXKY5t5x_",
        "outputId": "b8f486e5-4316-474a-ca96-6e93588e27e8"
      },
      "source": [
        "makanan(7)"
      ],
      "execution_count": null,
      "outputs": [
        {
          "output_type": "execute_result",
          "data": {
            "text/plain": [
              "[('cukup', 0.5), ('bagus', 0.0)]"
            ]
          },
          "metadata": {
            "tags": []
          },
          "execution_count": 24
        }
      ]
    },
    {
      "cell_type": "code",
      "metadata": {
        "id": "xcAoJx3kuUgl",
        "colab": {
          "base_uri": "https://localhost:8080/"
        },
        "outputId": "eb3ad4be-895a-4bcd-c696-f43aa56e5f98"
      },
      "source": [
        "makanan(7.5)"
      ],
      "execution_count": null,
      "outputs": [
        {
          "output_type": "execute_result",
          "data": {
            "text/plain": [
              "[('cukup', 0.25), ('bagus', 0.3333333333333333)]"
            ]
          },
          "metadata": {
            "tags": []
          },
          "execution_count": 25
        }
      ]
    },
    {
      "cell_type": "code",
      "metadata": {
        "id": "EJvvufGAuUoG",
        "colab": {
          "base_uri": "https://localhost:8080/"
        },
        "outputId": "9fca5544-4b97-4182-862a-bfa2f04139f0"
      },
      "source": [
        "makanan(9)"
      ],
      "execution_count": null,
      "outputs": [
        {
          "output_type": "execute_result",
          "data": {
            "text/plain": [
              "[('bagus', 1)]"
            ]
          },
          "metadata": {
            "tags": []
          },
          "execution_count": 26
        }
      ]
    },
    {
      "cell_type": "code",
      "metadata": {
        "id": "IgapvhvvItzK"
      },
      "source": [
        "def inference(pelayanan, makanan):\n",
        "    if (pelayanan=='buruk' and makanan=='buruk') :\n",
        "        return 'tidak layak'\n",
        "    if (pelayanan=='buruk' and makanan=='cukup') :\n",
        "        return 'tidak layak'\n",
        "    if (pelayanan=='buruk' and makanan=='bagus') :\n",
        "        return 'layak'\n",
        "    if (pelayanan=='cukup' and makanan=='buruk') :\n",
        "        return 'tidak layak'\n",
        "    if (pelayanan=='cukup' and makanan=='cukup') :\n",
        "        return 'layak'\n",
        "    if (pelayanan=='cukup' and makanan=='bagus') :\n",
        "        return 'layak'\n",
        "    if (pelayanan=='bagus' and makanan=='buruk') :\n",
        "        return 'tidak layak'\n",
        "    if (pelayanan=='bagus' and makanan=='cukup') :\n",
        "        return 'layak'\n",
        "    if (pelayanan=='bagus' and makanan=='bagus') :\n",
        "        return 'layak'"
      ],
      "execution_count": null,
      "outputs": []
    },
    {
      "cell_type": "code",
      "metadata": {
        "id": "2fz79NCcwGrm"
      },
      "source": [
        "def nilaiInference(Pelayanan, Makanan):\n",
        "    maksLayak = 0.0\n",
        "    maksNotLayak = 0.0\n",
        "    for i in pelayanan(Pelayanan):\n",
        "        for j in makanan(Makanan):\n",
        "            if (inference(i[0],j[0])=='layak') :\n",
        "                if (maksLayak < min(i[1],j[1])) :\n",
        "                    maksLayak = min(i[1],j[1])\n",
        "            if (inference(i[0],j[0])=='tidak layak') :\n",
        "                if (maksNotLayak < min(i[1],j[1])):\n",
        "                    maksNotLayak = min(i[1],j[1])\n",
        "    return ('layak', maksLayak) , ('tidak layak', maksNotLayak)"
      ],
      "execution_count": null,
      "outputs": []
    },
    {
      "cell_type": "code",
      "metadata": {
        "colab": {
          "base_uri": "https://localhost:8080/"
        },
        "id": "HgtpcbQsweqT",
        "outputId": "0ceb8de7-7364-4e1d-cd29-2404d086d9c7"
      },
      "source": [
        "pelayanan(78)"
      ],
      "execution_count": null,
      "outputs": [
        {
          "output_type": "execute_result",
          "data": {
            "text/plain": [
              "[('cukup', 0.8)]"
            ]
          },
          "metadata": {
            "tags": []
          },
          "execution_count": 29
        }
      ]
    },
    {
      "cell_type": "code",
      "metadata": {
        "colab": {
          "base_uri": "https://localhost:8080/"
        },
        "id": "wWsRmpHvwnOd",
        "outputId": "0db8368e-8621-4193-f1b4-7a836d959ece"
      },
      "source": [
        "makanan(7.5)"
      ],
      "execution_count": null,
      "outputs": [
        {
          "output_type": "execute_result",
          "data": {
            "text/plain": [
              "[('cukup', 0.25), ('bagus', 0.3333333333333333)]"
            ]
          },
          "metadata": {
            "tags": []
          },
          "execution_count": 30
        }
      ]
    },
    {
      "cell_type": "code",
      "metadata": {
        "colab": {
          "base_uri": "https://localhost:8080/"
        },
        "id": "775869XHwp0l",
        "outputId": "9399fe06-93e6-4481-edb5-51d104a59626"
      },
      "source": [
        "nilaiInference(78, 7.5)"
      ],
      "execution_count": null,
      "outputs": [
        {
          "output_type": "execute_result",
          "data": {
            "text/plain": [
              "(('layak', 0.3333333333333333), ('tidak layak', 0.0))"
            ]
          },
          "metadata": {
            "tags": []
          },
          "execution_count": 31
        }
      ]
    },
    {
      "cell_type": "markdown",
      "metadata": {
        "id": "kN7S6DBr5tn_"
      },
      "source": [
        "**GRAFIK SUGENO**"
      ]
    },
    {
      "cell_type": "code",
      "metadata": {
        "colab": {
          "base_uri": "https://localhost:8080/",
          "height": 282
        },
        "id": "KoQIB3HZBQjw",
        "outputId": "20688d2c-77f6-416d-c70d-75fe35891da7"
      },
      "source": [
        "x1 = [20,40,60,80,85,100]\n",
        "y1 = [0,0,1,0,0,0]\n",
        "\n",
        "x2 = [20,40,60,80,85,100]\n",
        "y2 = [0,0,0,0,1,0]\n",
        "\n",
        "plt.figure(figsize=(10,4))\n",
        "plt.xticks([20,40,60,80,85,100])\n",
        "\n",
        "plt.bar(x1,y1,linewidth=1, label=\"Tidak direkomendasikan\")\n",
        "plt.bar(x2,y2,linewidth=1, label=\"Rekomendasi\")\n",
        "\n",
        "plt.legend()"
      ],
      "execution_count": null,
      "outputs": [
        {
          "output_type": "execute_result",
          "data": {
            "text/plain": [
              "<matplotlib.legend.Legend at 0x7f17e3c341d0>"
            ]
          },
          "metadata": {
            "tags": []
          },
          "execution_count": 32
        },
        {
          "output_type": "display_data",
          "data": {
            "image/png": "[encoded data removed]",
            "text/plain": [
              "<Figure size 720x288 with 1 Axes>"
            ]
          },
          "metadata": {
            "tags": [],
            "needs_background": "light"
          }
        }
      ]
    },
    {
      "cell_type": "code",
      "metadata": {
        "id": "BOfzDl4o5cU4"
      },
      "source": [
        "#Sugeno\n",
        "def sugeno(x,y):\n",
        "  hasil=((x*40) + (y*85))/(x+y)\n",
        "  return hasil"
      ],
      "execution_count": null,
      "outputs": []
    },
    {
      "cell_type": "code",
      "metadata": {
        "colab": {
          "base_uri": "https://localhost:8080/"
        },
        "id": "RxiRz9vEVqj3",
        "outputId": "2d971c26-7fe5-45de-886b-c8efe4cf5d70"
      },
      "source": [
        "sugeno(35,2)"
      ],
      "execution_count": null,
      "outputs": [
        {
          "output_type": "execute_result",
          "data": {
            "text/plain": [
              "42.432432432432435"
            ]
          },
          "metadata": {
            "tags": []
          },
          "execution_count": 34
        }
      ]
    },
    {
      "cell_type": "code",
      "metadata": {
        "colab": {
          "base_uri": "https://localhost:8080/"
        },
        "id": "iOp4Y8pJV0Wv",
        "outputId": "562f56c3-a8e5-4492-d74a-cef29d7a20ab"
      },
      "source": [
        "sugeno(100,9)"
      ],
      "execution_count": null,
      "outputs": [
        {
          "output_type": "execute_result",
          "data": {
            "text/plain": [
              "43.71559633027523"
            ]
          },
          "metadata": {
            "tags": []
          },
          "execution_count": 35
        }
      ]
    },
    {
      "cell_type": "code",
      "metadata": {
        "colab": {
          "base_uri": "https://localhost:8080/",
          "height": 406
        },
        "id": "Tzl8myWI7zYU",
        "outputId": "e0dc77d5-3f4a-40b7-9b10-d8237d2f54a2"
      },
      "source": [
        "dfFuzzy"
      ],
      "execution_count": null,
      "outputs": [
        {
          "output_type": "execute_result",
          "data": {
            "text/html": [
              "<div>\n",
              "<style scoped>\n",
              "    .dataframe tbody tr th:only-of-type {\n",
              "        vertical-align: middle;\n",
              "    }\n",
              "\n",
              "    .dataframe tbody tr th {\n",
              "        vertical-align: top;\n",
              "    }\n",
              "\n",
              "    .dataframe thead th {\n",
              "        text-align: right;\n",
              "    }\n",
              "</style>\n",
              "<table border=\"1\" class=\"dataframe\">\n",
              "  <thead>\n",
              "    <tr style=\"text-align: right;\">\n",
              "      <th></th>\n",
              "      <th>id</th>\n",
              "      <th>pelayanan</th>\n",
              "      <th>makanan</th>\n",
              "    </tr>\n",
              "  </thead>\n",
              "  <tbody>\n",
              "    <tr>\n",
              "      <th>0</th>\n",
              "      <td>1</td>\n",
              "      <td>58</td>\n",
              "      <td>7</td>\n",
              "    </tr>\n",
              "    <tr>\n",
              "      <th>1</th>\n",
              "      <td>2</td>\n",
              "      <td>54</td>\n",
              "      <td>1</td>\n",
              "    </tr>\n",
              "    <tr>\n",
              "      <th>2</th>\n",
              "      <td>3</td>\n",
              "      <td>98</td>\n",
              "      <td>2</td>\n",
              "    </tr>\n",
              "    <tr>\n",
              "      <th>3</th>\n",
              "      <td>4</td>\n",
              "      <td>52</td>\n",
              "      <td>4</td>\n",
              "    </tr>\n",
              "    <tr>\n",
              "      <th>4</th>\n",
              "      <td>5</td>\n",
              "      <td>11</td>\n",
              "      <td>4</td>\n",
              "    </tr>\n",
              "    <tr>\n",
              "      <th>...</th>\n",
              "      <td>...</td>\n",
              "      <td>...</td>\n",
              "      <td>...</td>\n",
              "    </tr>\n",
              "    <tr>\n",
              "      <th>95</th>\n",
              "      <td>96</td>\n",
              "      <td>30</td>\n",
              "      <td>1</td>\n",
              "    </tr>\n",
              "    <tr>\n",
              "      <th>96</th>\n",
              "      <td>97</td>\n",
              "      <td>25</td>\n",
              "      <td>3</td>\n",
              "    </tr>\n",
              "    <tr>\n",
              "      <th>97</th>\n",
              "      <td>98</td>\n",
              "      <td>27</td>\n",
              "      <td>10</td>\n",
              "    </tr>\n",
              "    <tr>\n",
              "      <th>98</th>\n",
              "      <td>99</td>\n",
              "      <td>8</td>\n",
              "      <td>6</td>\n",
              "    </tr>\n",
              "    <tr>\n",
              "      <th>99</th>\n",
              "      <td>100</td>\n",
              "      <td>11</td>\n",
              "      <td>8</td>\n",
              "    </tr>\n",
              "  </tbody>\n",
              "</table>\n",
              "<p>100 rows × 3 columns</p>\n",
              "</div>"
            ],
            "text/plain": [
              "     id  pelayanan  makanan\n",
              "0     1         58        7\n",
              "1     2         54        1\n",
              "2     3         98        2\n",
              "3     4         52        4\n",
              "4     5         11        4\n",
              "..  ...        ...      ...\n",
              "95   96         30        1\n",
              "96   97         25        3\n",
              "97   98         27       10\n",
              "98   99          8        6\n",
              "99  100         11        8\n",
              "\n",
              "[100 rows x 3 columns]"
            ]
          },
          "metadata": {
            "tags": []
          },
          "execution_count": 36
        }
      ]
    },
    {
      "cell_type": "code",
      "metadata": {
        "colab": {
          "base_uri": "https://localhost:8080/"
        },
        "id": "0p9oXPRn7-9W",
        "outputId": "4bdf312f-e5cb-4d65-a061-538d66556070"
      },
      "source": [
        "saves = []\n",
        "\n",
        "for i in dfFuzzy.iterrows():\n",
        "  arr_sugeno= nilaiInference(i[1].loc['pelayanan'], i[1].loc['makanan'])\n",
        "  saves.append(sugeno(arr_sugeno[0][1], arr_sugeno[1][1]))\n",
        "print(saves)"
      ],
      "execution_count": null,
      "outputs": [
        {
          "output_type": "stream",
          "text": [
            "[47.75862068965518, 85.0, 85.0, 85.0, 85.0, 40.0, 40.0, 40.0, 85.0, 40.0, 85.0, 85.0, 85.0, 40.0, 40.0, 40.0, 85.0, 40.0, 85.0, 40.0, 85.0, 40.0, 85.0, 40.0, 40.0, 85.0, 40.0, 85.0, 40.0, 85.0, 40.0, 85.0, 40.0, 85.0, 85.0, 85.0, 85.0, 85.0, 74.61538461538461, 85.0, 85.0, 40.0, 85.0, 85.0, 40.0, 85.0, 85.0, 85.0, 85.0, 85.0, 40.0, 85.0, 85.0, 40.0, 85.0, 85.0, 85.0, 85.0, 85.0, 40.0, 85.0, 85.0, 40.0, 85.00000000000001, 40.0, 40.0, 85.0, 43.813559322033896, 40.0, 40.0, 85.0, 85.0, 40.0, 85.0, 85.0, 85.0, 40.0, 85.0, 40.0, 40.0, 40.0, 85.0, 40.0, 85.0, 85.0, 85.0, 85.0, 40.0, 85.0, 85.0, 85.0, 85.0, 40.0, 85.0, 40.0, 85.0, 85.0, 40.0, 85.0, 40.0]\n"
          ],
          "name": "stdout"
        }
      ]
    },
    {
      "cell_type": "code",
      "metadata": {
        "colab": {
          "base_uri": "https://localhost:8080/"
        },
        "id": "Kz1bqojf9TgN",
        "outputId": "56d1e7c6-c1b4-4e58-abaf-a2916a4b810d"
      },
      "source": [
        "NilaiTerbaik = sorted(zip(dfFuzzy.id,saves), key=lambda x:x[1], reverse=True)\n",
        "print(NilaiTerbaik)"
      ],
      "execution_count": null,
      "outputs": [
        {
          "output_type": "stream",
          "text": [
            "[(64, 85.00000000000001), (2, 85.0), (3, 85.0), (4, 85.0), (5, 85.0), (9, 85.0), (11, 85.0), (12, 85.0), (13, 85.0), (17, 85.0), (19, 85.0), (21, 85.0), (23, 85.0), (26, 85.0), (28, 85.0), (30, 85.0), (32, 85.0), (34, 85.0), (35, 85.0), (36, 85.0), (37, 85.0), (38, 85.0), (40, 85.0), (41, 85.0), (43, 85.0), (44, 85.0), (46, 85.0), (47, 85.0), (48, 85.0), (49, 85.0), (50, 85.0), (52, 85.0), (53, 85.0), (55, 85.0), (56, 85.0), (57, 85.0), (58, 85.0), (59, 85.0), (61, 85.0), (62, 85.0), (67, 85.0), (71, 85.0), (72, 85.0), (74, 85.0), (75, 85.0), (76, 85.0), (78, 85.0), (82, 85.0), (84, 85.0), (85, 85.0), (86, 85.0), (87, 85.0), (89, 85.0), (90, 85.0), (91, 85.0), (92, 85.0), (94, 85.0), (96, 85.0), (97, 85.0), (99, 85.0), (39, 74.61538461538461), (1, 47.75862068965518), (68, 43.813559322033896), (6, 40.0), (7, 40.0), (8, 40.0), (10, 40.0), (14, 40.0), (15, 40.0), (16, 40.0), (18, 40.0), (20, 40.0), (22, 40.0), (24, 40.0), (25, 40.0), (27, 40.0), (29, 40.0), (31, 40.0), (33, 40.0), (42, 40.0), (45, 40.0), (51, 40.0), (54, 40.0), (60, 40.0), (63, 40.0), (65, 40.0), (66, 40.0), (69, 40.0), (70, 40.0), (73, 40.0), (77, 40.0), (79, 40.0), (80, 40.0), (81, 40.0), (83, 40.0), (88, 40.0), (93, 40.0), (95, 40.0), (98, 40.0), (100, 40.0)]\n"
          ],
          "name": "stdout"
        }
      ]
    },
    {
      "cell_type": "code",
      "metadata": {
        "colab": {
          "base_uri": "https://localhost:8080/"
        },
        "id": "EO1Fd1899iUd",
        "outputId": "7141457a-ae35-42a0-b88e-2c46896a4cfb"
      },
      "source": [
        "RestoranBest =[]\n",
        "for i in range(10):\n",
        "  RestoranBest.append(NilaiTerbaik[i])\n",
        "print(RestoranBest)"
      ],
      "execution_count": null,
      "outputs": [
        {
          "output_type": "stream",
          "text": [
            "[(64, 85.00000000000001), (2, 85.0), (3, 85.0), (4, 85.0), (5, 85.0), (9, 85.0), (11, 85.0), (12, 85.0), (13, 85.0), (17, 85.0)]\n"
          ],
          "name": "stdout"
        }
      ]
    },
    {
      "cell_type": "code",
      "metadata": {
        "colab": {
          "base_uri": "https://localhost:8080/",
          "height": 347
        },
        "id": "OT0EuL0dRBwR",
        "outputId": "351277e7-10fe-4f61-e6c2-9b3ef8f6e564"
      },
      "source": [
        "data_final = pd.DataFrame(RestoranBest, columns = ['id','nilai'])\n",
        "data_final"
      ],
      "execution_count": null,
      "outputs": [
        {
          "output_type": "execute_result",
          "data": {
            "text/html": [
              "<div>\n",
              "<style scoped>\n",
              "    .dataframe tbody tr th:only-of-type {\n",
              "        vertical-align: middle;\n",
              "    }\n",
              "\n",
              "    .dataframe tbody tr th {\n",
              "        vertical-align: top;\n",
              "    }\n",
              "\n",
              "    .dataframe thead th {\n",
              "        text-align: right;\n",
              "    }\n",
              "</style>\n",
              "<table border=\"1\" class=\"dataframe\">\n",
              "  <thead>\n",
              "    <tr style=\"text-align: right;\">\n",
              "      <th></th>\n",
              "      <th>id</th>\n",
              "      <th>nilai</th>\n",
              "    </tr>\n",
              "  </thead>\n",
              "  <tbody>\n",
              "    <tr>\n",
              "      <th>0</th>\n",
              "      <td>64</td>\n",
              "      <td>85.0</td>\n",
              "    </tr>\n",
              "    <tr>\n",
              "      <th>1</th>\n",
              "      <td>2</td>\n",
              "      <td>85.0</td>\n",
              "    </tr>\n",
              "    <tr>\n",
              "      <th>2</th>\n",
              "      <td>3</td>\n",
              "      <td>85.0</td>\n",
              "    </tr>\n",
              "    <tr>\n",
              "      <th>3</th>\n",
              "      <td>4</td>\n",
              "      <td>85.0</td>\n",
              "    </tr>\n",
              "    <tr>\n",
              "      <th>4</th>\n",
              "      <td>5</td>\n",
              "      <td>85.0</td>\n",
              "    </tr>\n",
              "    <tr>\n",
              "      <th>5</th>\n",
              "      <td>9</td>\n",
              "      <td>85.0</td>\n",
              "    </tr>\n",
              "    <tr>\n",
              "      <th>6</th>\n",
              "      <td>11</td>\n",
              "      <td>85.0</td>\n",
              "    </tr>\n",
              "    <tr>\n",
              "      <th>7</th>\n",
              "      <td>12</td>\n",
              "      <td>85.0</td>\n",
              "    </tr>\n",
              "    <tr>\n",
              "      <th>8</th>\n",
              "      <td>13</td>\n",
              "      <td>85.0</td>\n",
              "    </tr>\n",
              "    <tr>\n",
              "      <th>9</th>\n",
              "      <td>17</td>\n",
              "      <td>85.0</td>\n",
              "    </tr>\n",
              "  </tbody>\n",
              "</table>\n",
              "</div>"
            ],
            "text/plain": [
              "   id  nilai\n",
              "0  64   85.0\n",
              "1   2   85.0\n",
              "2   3   85.0\n",
              "3   4   85.0\n",
              "4   5   85.0\n",
              "5   9   85.0\n",
              "6  11   85.0\n",
              "7  12   85.0\n",
              "8  13   85.0\n",
              "9  17   85.0"
            ]
          },
          "metadata": {
            "tags": []
          },
          "execution_count": 95
        }
      ]
    },
    {
      "cell_type": "code",
      "metadata": {
        "id": "mTNaxY_59e3A"
      },
      "source": [
        "pd.DataFrame(data_final).to_excel('peringkat.xls', header=True, index=False)"
      ],
      "execution_count": null,
      "outputs": []
    },
    {
      "cell_type": "code",
      "metadata": {
        "colab": {
          "base_uri": "https://localhost:8080/",
          "height": 347
        },
        "id": "E-EvlyvH1IuQ",
        "outputId": "5e3e3ab3-7d23-423b-f5d0-986174af6489"
      },
      "source": [
        "peringkat = pd.read_excel('peringkat.xls')\n",
        "peringkat"
      ],
      "execution_count": null,
      "outputs": [
        {
          "output_type": "execute_result",
          "data": {
            "text/html": [
              "<div>\n",
              "<style scoped>\n",
              "    .dataframe tbody tr th:only-of-type {\n",
              "        vertical-align: middle;\n",
              "    }\n",
              "\n",
              "    .dataframe tbody tr th {\n",
              "        vertical-align: top;\n",
              "    }\n",
              "\n",
              "    .dataframe thead th {\n",
              "        text-align: right;\n",
              "    }\n",
              "</style>\n",
              "<table border=\"1\" class=\"dataframe\">\n",
              "  <thead>\n",
              "    <tr style=\"text-align: right;\">\n",
              "      <th></th>\n",
              "      <th>id</th>\n",
              "      <th>nilai</th>\n",
              "    </tr>\n",
              "  </thead>\n",
              "  <tbody>\n",
              "    <tr>\n",
              "      <th>0</th>\n",
              "      <td>64</td>\n",
              "      <td>85.0</td>\n",
              "    </tr>\n",
              "    <tr>\n",
              "      <th>1</th>\n",
              "      <td>2</td>\n",
              "      <td>85.0</td>\n",
              "    </tr>\n",
              "    <tr>\n",
              "      <th>2</th>\n",
              "      <td>3</td>\n",
              "      <td>85.0</td>\n",
              "    </tr>\n",
              "    <tr>\n",
              "      <th>3</th>\n",
              "      <td>4</td>\n",
              "      <td>85.0</td>\n",
              "    </tr>\n",
              "    <tr>\n",
              "      <th>4</th>\n",
              "      <td>5</td>\n",
              "      <td>85.0</td>\n",
              "    </tr>\n",
              "    <tr>\n",
              "      <th>5</th>\n",
              "      <td>9</td>\n",
              "      <td>85.0</td>\n",
              "    </tr>\n",
              "    <tr>\n",
              "      <th>6</th>\n",
              "      <td>11</td>\n",
              "      <td>85.0</td>\n",
              "    </tr>\n",
              "    <tr>\n",
              "      <th>7</th>\n",
              "      <td>12</td>\n",
              "      <td>85.0</td>\n",
              "    </tr>\n",
              "    <tr>\n",
              "      <th>8</th>\n",
              "      <td>13</td>\n",
              "      <td>85.0</td>\n",
              "    </tr>\n",
              "    <tr>\n",
              "      <th>9</th>\n",
              "      <td>17</td>\n",
              "      <td>85.0</td>\n",
              "    </tr>\n",
              "  </tbody>\n",
              "</table>\n",
              "</div>"
            ],
            "text/plain": [
              "   id  nilai\n",
              "0  64   85.0\n",
              "1   2   85.0\n",
              "2   3   85.0\n",
              "3   4   85.0\n",
              "4   5   85.0\n",
              "5   9   85.0\n",
              "6  11   85.0\n",
              "7  12   85.0\n",
              "8  13   85.0\n",
              "9  17   85.0"
            ]
          },
          "metadata": {
            "tags": []
          },
          "execution_count": 103
        }
      ]
    }
  ]
}